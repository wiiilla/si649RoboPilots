{
 "cells": [
  {
   "cell_type": "code",
   "execution_count": 14,
   "metadata": {},
   "outputs": [],
   "source": [
    "import Robogame as rg\n",
    "import networkx as nx\n",
    "import altair as alt\n",
    "import time, json\n",
    "import pandas as pd\n",
    "import numpy as np"
   ]
  },
  {
   "cell_type": "markdown",
   "metadata": {},
   "source": [
    "# Post-Match Analysis\n",
    "\n",
    "This is an example of postgame analysis. We're going to read the real data (the csv/network/whatever you want) and the log file from the actual match."
   ]
  },
  {
   "cell_type": "code",
   "execution_count": 40,
   "metadata": {},
   "outputs": [],
   "source": [
    "# load the real game data\n",
    "robotdata = pd.read_csv(\"../server/example1/examplematch1.robotdata.csv\")\n",
    "\n",
    "# let's load up the log file of the match\n",
    "gamedata = {}\n",
    "with open('../server/example1/bobvalice.json') as json_file:\n",
    "    gamedata = json.load(json_file)"
   ]
  },
  {
   "cell_type": "markdown",
   "metadata": {},
   "source": [
    "# Reading the gamedata object\n",
    "\n",
    "```betlog``` is an array: It consists of the bets made by both teams. Objects in this array look like: ```{'time': 0.08, 'betby': 2, 'beton': 3, 'value': 56}``` meaning that at time .08 (fraction are ok here), team 2 guessed 56 for robot 3. If a team makes multiple bets at different times, you will see an entry for each bet (For example, you might see ```{'time': 5.08, 'betby': 2, 'beton': 3, 'value': 72}``` which means that team updated their bet on robot 3 to 72.\n",
    "\n",
    "```team1_bets``` and ```team2_bets``` are arrays reflecting the final guess of each team. For example, if you say: ```gamedata['team2_bets'][45]``` this will give you the value of the that team 2 guessed for robot 45.\n",
    "\n",
    "```winreasons``` is an array of which team won the robot and for what reason. For example, you can ask who won robot 42 by saying ```gamedata['winreasons'][42]```. The objects in this array look like this: ```{'winner':2,'reason':-1}```  The winner can either be -1 (no one), 1 (team 1), or 2 (team 2). A code of -1 means that one of the teams won because the other team put in a -1 (e.g., winner:2, reason:-1 means team 2 gets the bot because team 1, put in a guess of -1, if the winner is -1 and reason is -1, no team wanted the bot). If the code is 2 or 2.5, the team won because they were closer in their guess (a 2.5 means they were equally close and we flipped a coin). If the code is 1, that means the team won by the social network strategy (a code of 1.5 means the the same network values and we flipped a coin). If you see a -2 for either winner or reason, you might have a partial game.\n",
    "\n",
    "```team1_int_bots``` and ```team2_int_bots``` are arrays: they reflect the bots the hacker was watching for each team at different times. For example, ```gamedata['team1_int_bots'][2]``` will give you team1's interests at time 2. An empty array here (```[]```) means they were interested in all robots. If you get something like ```[4,8]``` that means they were interested in robots 4 and 8 at time 2. \n",
    "\n",
    "```team1_int_parts``` and ```team2_int_parts``` are arrays: they reflect the parts the hacker was watching for each team at different times. For example, ```gamedata['team1_int_parts'][4]``` will give you team1's interests at time 4. An empty array here (```[]```) means they were interested in all robots. If you get something like ```[''Arakyd Vocabulator Model']``` that means they were interested in the 'Arakyd Vocabulator Model' part at time 4. \n",
    "\n",
    "```team1_hints_bots``` and ```team2_hints_bots``` are arrays: they relect the bot prediction hints the hacker prepared for the teams at each time. For example, ```gamedata['team1_hints_bots'][2]``` will give you the hints that were ready for team 1 at time 2. Hints are a series of objects that look like this: ```{'id': 86, 'time': 62, 'value': 56.450039697413786}``` which means that at time 62, robot 86 will output 56.45... \n",
    "\n",
    "```team1_hints_parts``` and ```team2_hints_parts``` are arrays: they relect the part prediction hints the hacker prepared for the teams at each time. For example, ```gamedata['team1_hints_parts'][2]``` will give you the hints that were ready for team 1 at time 2. Hints are a series of objects that look like this: ```{'id': 22, 'column': 'Arakyd Vocabulator Model', 'value': 'model A'}``` which means that at robot 22 has 'model A' for their 'Arakyd Vocabulator Model'  "
   ]
  },
  {
   "cell_type": "code",
   "execution_count": 41,
   "metadata": {},
   "outputs": [],
   "source": [
    "# figure out what the correct answers for the guesses\n",
    "correctAnswer = []\n",
    "\n",
    "# figure out the correct answers\n",
    "for row in robotdata[robotdata.id < 100].sort_values('id').iterrows():\n",
    "    row = row[1]                 # the row data\n",
    "    expires = int(row.expires)   # when the robot expired\n",
    "    col = \"t_\"+str(expires)      # the column for that time\n",
    "    valAtExp = row[col]          # the value at that time for that robot\n",
    "    correctAnswer.append(valAtExp)"
   ]
  },
  {
   "cell_type": "markdown",
   "metadata": {},
   "source": [
    "# Example analysis, let's compare team 1 and team 2's guesses to the real values"
   ]
  },
  {
   "cell_type": "code",
   "execution_count": 42,
   "metadata": {},
   "outputs": [],
   "source": [
    "# first, we can look at the bets the two players made in relation to the true answer\n",
    "# let's contrast the perfomance of the teams in relation to the true answer\n",
    "dataset = pd.DataFrame({'id':np.arange(0,100),'realanswer': correctAnswer, \n",
    "                        'team1': gamedata['team1_bets'],'team2': gamedata['team2_bets']})"
   ]
  },
  {
   "cell_type": "code",
   "execution_count": 43,
   "metadata": {},
   "outputs": [],
   "source": [
    "# find the difference between the realanswer and the teams\n",
    "dataset['diff1'] = dataset['realanswer'] - dataset['team1']\n",
    "dataset['diff2'] = dataset['realanswer'] - dataset['team2']"
   ]
  },
  {
   "cell_type": "code",
   "execution_count": 44,
   "metadata": {},
   "outputs": [],
   "source": [
    "# make this into a longform array so we can see\n",
    "longform = dataset.melt(id_vars='id',value_vars=['diff1','diff2'])"
   ]
  },
  {
   "cell_type": "code",
   "execution_count": 45,
   "metadata": {},
   "outputs": [
    {
     "data": {
      "text/html": [
       "\n",
       "<div id=\"altair-viz-c5e251746c3b4feba6a419358d89fce6\"></div>\n",
       "<script type=\"text/javascript\">\n",
       "  (function(spec, embedOpt){\n",
       "    let outputDiv = document.currentScript.previousElementSibling;\n",
       "    if (outputDiv.id !== \"altair-viz-c5e251746c3b4feba6a419358d89fce6\") {\n",
       "      outputDiv = document.getElementById(\"altair-viz-c5e251746c3b4feba6a419358d89fce6\");\n",
       "    }\n",
       "    const paths = {\n",
       "      \"vega\": \"https://cdn.jsdelivr.net/npm//vega@5?noext\",\n",
       "      \"vega-lib\": \"https://cdn.jsdelivr.net/npm//vega-lib?noext\",\n",
       "      \"vega-lite\": \"https://cdn.jsdelivr.net/npm//vega-lite@4.8.1?noext\",\n",
       "      \"vega-embed\": \"https://cdn.jsdelivr.net/npm//vega-embed@6?noext\",\n",
       "    };\n",
       "\n",
       "    function loadScript(lib) {\n",
       "      return new Promise(function(resolve, reject) {\n",
       "        var s = document.createElement('script');\n",
       "        s.src = paths[lib];\n",
       "        s.async = true;\n",
       "        s.onload = () => resolve(paths[lib]);\n",
       "        s.onerror = () => reject(`Error loading script: ${paths[lib]}`);\n",
       "        document.getElementsByTagName(\"head\")[0].appendChild(s);\n",
       "      });\n",
       "    }\n",
       "\n",
       "    function showError(err) {\n",
       "      outputDiv.innerHTML = `<div class=\"error\" style=\"color:red;\">${err}</div>`;\n",
       "      throw err;\n",
       "    }\n",
       "\n",
       "    function displayChart(vegaEmbed) {\n",
       "      vegaEmbed(outputDiv, spec, embedOpt)\n",
       "        .catch(err => showError(`Javascript Error: ${err.message}<br>This usually means there's a typo in your chart specification. See the javascript console for the full traceback.`));\n",
       "    }\n",
       "\n",
       "    if(typeof define === \"function\" && define.amd) {\n",
       "      requirejs.config({paths});\n",
       "      require([\"vega-embed\"], displayChart, err => showError(`Error loading script: ${err.message}`));\n",
       "    } else if (typeof vegaEmbed === \"function\") {\n",
       "      displayChart(vegaEmbed);\n",
       "    } else {\n",
       "      loadScript(\"vega\")\n",
       "        .then(() => loadScript(\"vega-lite\"))\n",
       "        .then(() => loadScript(\"vega-embed\"))\n",
       "        .catch(showError)\n",
       "        .then(() => displayChart(vegaEmbed));\n",
       "    }\n",
       "  })({\"config\": {\"view\": {\"continuousWidth\": 400, \"continuousHeight\": 300}}, \"data\": {\"name\": \"data-39ed18aac043ead544ef2358167573ab\"}, \"mark\": \"line\", \"encoding\": {\"color\": {\"type\": \"nominal\", \"field\": \"variable\"}, \"x\": {\"type\": \"ordinal\", \"field\": \"id\"}, \"y\": {\"type\": \"quantitative\", \"field\": \"value\"}}, \"$schema\": \"https://vega.github.io/schema/vega-lite/v4.8.1.json\", \"datasets\": {\"data-39ed18aac043ead544ef2358167573ab\": [{\"id\": 0, \"variable\": \"diff1\", \"value\": -14.554188589006394}, {\"id\": 1, \"variable\": \"diff1\", \"value\": 19.0319399206152}, {\"id\": 2, \"variable\": \"diff1\", \"value\": -18.69544685159488}, {\"id\": 3, \"variable\": \"diff1\", \"value\": 21.804735672711615}, {\"id\": 4, \"variable\": \"diff1\", \"value\": -11.016273400964721}, {\"id\": 5, \"variable\": \"diff1\", \"value\": 8.449680623797242}, {\"id\": 6, \"variable\": \"diff1\", \"value\": -5.3415639594091004}, {\"id\": 7, \"variable\": \"diff1\", \"value\": -12.342053506500548}, {\"id\": 8, \"variable\": \"diff1\", \"value\": -4.754185673203423}, {\"id\": 9, \"variable\": \"diff1\", \"value\": 6.878694784426216}, {\"id\": 10, \"variable\": \"diff1\", \"value\": 27.10068136250947}, {\"id\": 11, \"variable\": \"diff1\", \"value\": 11.972980222593694}, {\"id\": 12, \"variable\": \"diff1\", \"value\": 4.462303408867257}, {\"id\": 13, \"variable\": \"diff1\", \"value\": -14.74376215353439}, {\"id\": 14, \"variable\": \"diff1\", \"value\": -4.4964278694441475}, {\"id\": 15, \"variable\": \"diff1\", \"value\": 18.44832530104159}, {\"id\": 16, \"variable\": \"diff1\", \"value\": -0.37956597239828227}, {\"id\": 17, \"variable\": \"diff1\", \"value\": 6.507657900349713}, {\"id\": 18, \"variable\": \"diff1\", \"value\": 6.7106906014001595}, {\"id\": 19, \"variable\": \"diff1\", \"value\": 19.0}, {\"id\": 20, \"variable\": \"diff1\", \"value\": 13.984087105655448}, {\"id\": 21, \"variable\": \"diff1\", \"value\": 3.0172619409962778}, {\"id\": 22, \"variable\": \"diff1\", \"value\": 30.0}, {\"id\": 23, \"variable\": \"diff1\", \"value\": 12.151107911917059}, {\"id\": 24, \"variable\": \"diff1\", \"value\": -4.043048388790318}, {\"id\": 25, \"variable\": \"diff1\", \"value\": -18.634142524393923}, {\"id\": 26, \"variable\": \"diff1\", \"value\": 22.99348952438993}, {\"id\": 27, \"variable\": \"diff1\", \"value\": -6.381631395047762}, {\"id\": 28, \"variable\": \"diff1\", \"value\": 0.43247605923705296}, {\"id\": 29, \"variable\": \"diff1\", \"value\": 9.044154681898817}, {\"id\": 30, \"variable\": \"diff1\", \"value\": -2.4305046996724826}, {\"id\": 31, \"variable\": \"diff1\", \"value\": -16.616024706119745}, {\"id\": 32, \"variable\": \"diff1\", \"value\": 22.74584817734771}, {\"id\": 33, \"variable\": \"diff1\", \"value\": -17.358476690798227}, {\"id\": 34, \"variable\": \"diff1\", \"value\": 19.99019655296742}, {\"id\": 35, \"variable\": \"diff1\", \"value\": 39.385397421228376}, {\"id\": 36, \"variable\": \"diff1\", \"value\": 2.5220571929769022}, {\"id\": 37, \"variable\": \"diff1\", \"value\": 1.7992928370094887}, {\"id\": 38, \"variable\": \"diff1\", \"value\": 12.226252733883186}, {\"id\": 39, \"variable\": \"diff1\", \"value\": 26.541482996489393}, {\"id\": 40, \"variable\": \"diff1\", \"value\": -0.4312928150389297}, {\"id\": 41, \"variable\": \"diff1\", \"value\": 3.680303569620861}, {\"id\": 42, \"variable\": \"diff1\", \"value\": 14.636972639831896}, {\"id\": 43, \"variable\": \"diff1\", \"value\": -16.988099422138433}, {\"id\": 44, \"variable\": \"diff1\", \"value\": -9.736293740029353}, {\"id\": 45, \"variable\": \"diff1\", \"value\": 27.911453142372878}, {\"id\": 46, \"variable\": \"diff1\", \"value\": -3.1555330314056818}, {\"id\": 47, \"variable\": \"diff1\", \"value\": -2.6374763123745026}, {\"id\": 48, \"variable\": \"diff1\", \"value\": 4.428179085044377}, {\"id\": 49, \"variable\": \"diff1\", \"value\": -18.246125236937573}, {\"id\": 50, \"variable\": \"diff1\", \"value\": -10.485297179632177}, {\"id\": 51, \"variable\": \"diff1\", \"value\": -3.7418762983229215}, {\"id\": 52, \"variable\": \"diff1\", \"value\": 35.197445627291046}, {\"id\": 53, \"variable\": \"diff1\", \"value\": -11.707090915672097}, {\"id\": 54, \"variable\": \"diff1\", \"value\": 9.21356435057946}, {\"id\": 55, \"variable\": \"diff1\", \"value\": -3.336678378407697}, {\"id\": 56, \"variable\": \"diff1\", \"value\": -1.471433613874396}, {\"id\": 57, \"variable\": \"diff1\", \"value\": 33.20591834127268}, {\"id\": 58, \"variable\": \"diff1\", \"value\": -2.5434330470180058}, {\"id\": 59, \"variable\": \"diff1\", \"value\": -1.370093888759536}, {\"id\": 60, \"variable\": \"diff1\", \"value\": -16.094867983018613}, {\"id\": 61, \"variable\": \"diff1\", \"value\": -36.772539643724734}, {\"id\": 62, \"variable\": \"diff1\", \"value\": -9.617641403694137}, {\"id\": 63, \"variable\": \"diff1\", \"value\": 1.5713444521440465}, {\"id\": 64, \"variable\": \"diff1\", \"value\": 9.658031586635403}, {\"id\": 65, \"variable\": \"diff1\", \"value\": 34.30432540030317}, {\"id\": 66, \"variable\": \"diff1\", \"value\": -26.14609597053353}, {\"id\": 67, \"variable\": \"diff1\", \"value\": 39.71800657880938}, {\"id\": 68, \"variable\": \"diff1\", \"value\": -41.47537273932593}, {\"id\": 69, \"variable\": \"diff1\", \"value\": 39.131508020571594}, {\"id\": 70, \"variable\": \"diff1\", \"value\": -0.18256338741475986}, {\"id\": 71, \"variable\": \"diff1\", \"value\": -4.697473374136862}, {\"id\": 72, \"variable\": \"diff1\", \"value\": -10.299373937724738}, {\"id\": 73, \"variable\": \"diff1\", \"value\": -1.8895232335814143}, {\"id\": 74, \"variable\": \"diff1\", \"value\": -12.71560706081516}, {\"id\": 75, \"variable\": \"diff1\", \"value\": 16.0}, {\"id\": 76, \"variable\": \"diff1\", \"value\": 19.34759283968014}, {\"id\": 77, \"variable\": \"diff1\", \"value\": -0.12051889230200175}, {\"id\": 78, \"variable\": \"diff1\", \"value\": -17.59215026914836}, {\"id\": 79, \"variable\": \"diff1\", \"value\": -11.971665476321547}, {\"id\": 80, \"variable\": \"diff1\", \"value\": -9.066611835687809}, {\"id\": 81, \"variable\": \"diff1\", \"value\": 19.86213936269594}, {\"id\": 82, \"variable\": \"diff1\", \"value\": 3.151118678336705}, {\"id\": 83, \"variable\": \"diff1\", \"value\": -4.2235544856994665}, {\"id\": 84, \"variable\": \"diff1\", \"value\": -24.39587086377817}, {\"id\": 85, \"variable\": \"diff1\", \"value\": 0.916832431924908}, {\"id\": 86, \"variable\": \"diff1\", \"value\": -13.402320488639816}, {\"id\": 87, \"variable\": \"diff1\", \"value\": -0.12625840151555678}, {\"id\": 88, \"variable\": \"diff1\", \"value\": 6.416363644411923}, {\"id\": 89, \"variable\": \"diff1\", \"value\": -14.657662962867185}, {\"id\": 90, \"variable\": \"diff1\", \"value\": 22.80275390068924}, {\"id\": 91, \"variable\": \"diff1\", \"value\": 11.174163865059828}, {\"id\": 92, \"variable\": \"diff1\", \"value\": -0.7872785783156218}, {\"id\": 93, \"variable\": \"diff1\", \"value\": -7.625838892478811}, {\"id\": 94, \"variable\": \"diff1\", \"value\": 24.985099354836407}, {\"id\": 95, \"variable\": \"diff1\", \"value\": 27.058332020882524}, {\"id\": 96, \"variable\": \"diff1\", \"value\": 29.745347968810094}, {\"id\": 97, \"variable\": \"diff1\", \"value\": 2.209596345647151}, {\"id\": 98, \"variable\": \"diff1\", \"value\": 3.9221480642445528}, {\"id\": 99, \"variable\": \"diff1\", \"value\": 6.864182104139516}, {\"id\": 0, \"variable\": \"diff2\", \"value\": -7.554188589006394}, {\"id\": 1, \"variable\": \"diff2\", \"value\": -2.9680600793847987}, {\"id\": 2, \"variable\": \"diff2\", \"value\": -8.69544685159488}, {\"id\": 3, \"variable\": \"diff2\", \"value\": -14.195264327288385}, {\"id\": 4, \"variable\": \"diff2\", \"value\": -11.016273400964721}, {\"id\": 5, \"variable\": \"diff2\", \"value\": -8.550319376202758}, {\"id\": 6, \"variable\": \"diff2\", \"value\": 7.6584360405908996}, {\"id\": 7, \"variable\": \"diff2\", \"value\": -9.342053506500548}, {\"id\": 8, \"variable\": \"diff2\", \"value\": 0.24581432679657667}, {\"id\": 9, \"variable\": \"diff2\", \"value\": 7.878694784426216}, {\"id\": 10, \"variable\": \"diff2\", \"value\": 7.100681362509469}, {\"id\": 11, \"variable\": \"diff2\", \"value\": 11.972980222593694}, {\"id\": 12, \"variable\": \"diff2\", \"value\": -8.537696591132743}, {\"id\": 13, \"variable\": \"diff2\", \"value\": 0.2562378464656092}, {\"id\": 14, \"variable\": \"diff2\", \"value\": -14.496427869444148}, {\"id\": 15, \"variable\": \"diff2\", \"value\": -23.55167469895841}, {\"id\": 16, \"variable\": \"diff2\", \"value\": -0.37956597239828227}, {\"id\": 17, \"variable\": \"diff2\", \"value\": -0.49234209965028697}, {\"id\": 18, \"variable\": \"diff2\", \"value\": 1.7106906014001595}, {\"id\": 19, \"variable\": \"diff2\", \"value\": 15.0}, {\"id\": 20, \"variable\": \"diff2\", \"value\": -9.015912894344552}, {\"id\": 21, \"variable\": \"diff2\", \"value\": 6.017261940996278}, {\"id\": 22, \"variable\": \"diff2\", \"value\": 9.0}, {\"id\": 23, \"variable\": \"diff2\", \"value\": 11.151107911917059}, {\"id\": 24, \"variable\": \"diff2\", \"value\": -13.043048388790318}, {\"id\": 25, \"variable\": \"diff2\", \"value\": 16.365857475606077}, {\"id\": 26, \"variable\": \"diff2\", \"value\": 3.993489524389929}, {\"id\": 27, \"variable\": \"diff2\", \"value\": 11.618368604952238}, {\"id\": 28, \"variable\": \"diff2\", \"value\": 0.43247605923705296}, {\"id\": 29, \"variable\": \"diff2\", \"value\": -13.955845318101183}, {\"id\": 30, \"variable\": \"diff2\", \"value\": -2.4305046996724826}, {\"id\": 31, \"variable\": \"diff2\", \"value\": 6.383975293880255}, {\"id\": 32, \"variable\": \"diff2\", \"value\": -5.25415182265229}, {\"id\": 33, \"variable\": \"diff2\", \"value\": 1.641523309201773}, {\"id\": 34, \"variable\": \"diff2\", \"value\": 3.9901965529674186}, {\"id\": 35, \"variable\": \"diff2\", \"value\": 5.385397421228376}, {\"id\": 36, \"variable\": \"diff2\", \"value\": 9.522057192976902}, {\"id\": 37, \"variable\": \"diff2\", \"value\": -1.2007071629905113}, {\"id\": 38, \"variable\": \"diff2\", \"value\": -4.773747266116814}, {\"id\": 39, \"variable\": \"diff2\", \"value\": 14.541482996489393}, {\"id\": 40, \"variable\": \"diff2\", \"value\": 14.56870718496107}, {\"id\": 41, \"variable\": \"diff2\", \"value\": 12.680303569620861}, {\"id\": 42, \"variable\": \"diff2\", \"value\": -15.363027360168104}, {\"id\": 43, \"variable\": \"diff2\", \"value\": -7.988099422138433}, {\"id\": 44, \"variable\": \"diff2\", \"value\": 10.263706259970647}, {\"id\": 45, \"variable\": \"diff2\", \"value\": 7.911453142372878}, {\"id\": 46, \"variable\": \"diff2\", \"value\": -4.155533031405682}, {\"id\": 47, \"variable\": \"diff2\", \"value\": 6.362523687625497}, {\"id\": 48, \"variable\": \"diff2\", \"value\": -2.571820914955623}, {\"id\": 49, \"variable\": \"diff2\", \"value\": 6.753874763062427}, {\"id\": 50, \"variable\": \"diff2\", \"value\": 16.514702820367823}, {\"id\": 51, \"variable\": \"diff2\", \"value\": -3.7418762983229215}, {\"id\": 52, \"variable\": \"diff2\", \"value\": 13.197445627291046}, {\"id\": 53, \"variable\": \"diff2\", \"value\": -15.707090915672097}, {\"id\": 54, \"variable\": \"diff2\", \"value\": -4.78643564942054}, {\"id\": 55, \"variable\": \"diff2\", \"value\": 4.663321621592303}, {\"id\": 56, \"variable\": \"diff2\", \"value\": -1.471433613874396}, {\"id\": 57, \"variable\": \"diff2\", \"value\": -3.794081658727322}, {\"id\": 58, \"variable\": \"diff2\", \"value\": 7.456566952981994}, {\"id\": 59, \"variable\": \"diff2\", \"value\": 2.629906111240464}, {\"id\": 60, \"variable\": \"diff2\", \"value\": 2.905132016981386}, {\"id\": 61, \"variable\": \"diff2\", \"value\": 6.227460356275266}, {\"id\": 62, \"variable\": \"diff2\", \"value\": -0.6176414036941367}, {\"id\": 63, \"variable\": \"diff2\", \"value\": -1.4286555478559535}, {\"id\": 64, \"variable\": \"diff2\", \"value\": 29.658031586635403}, {\"id\": 65, \"variable\": \"diff2\", \"value\": -1.6956745996968294}, {\"id\": 66, \"variable\": \"diff2\", \"value\": 15.85390402946647}, {\"id\": 67, \"variable\": \"diff2\", \"value\": -1.28199342119062}, {\"id\": 68, \"variable\": \"diff2\", \"value\": -15.475372739325929}, {\"id\": 69, \"variable\": \"diff2\", \"value\": 9.131508020571594}, {\"id\": 70, \"variable\": \"diff2\", \"value\": 7.81743661258524}, {\"id\": 71, \"variable\": \"diff2\", \"value\": 19.302526625863138}, {\"id\": 72, \"variable\": \"diff2\", \"value\": -5.299373937724738}, {\"id\": 73, \"variable\": \"diff2\", \"value\": 7.110476766418586}, {\"id\": 74, \"variable\": \"diff2\", \"value\": -10.71560706081516}, {\"id\": 75, \"variable\": \"diff2\", \"value\": 1.0}, {\"id\": 76, \"variable\": \"diff2\", \"value\": -6.652407160319861}, {\"id\": 77, \"variable\": \"diff2\", \"value\": -0.12051889230200175}, {\"id\": 78, \"variable\": \"diff2\", \"value\": -18.59215026914836}, {\"id\": 79, \"variable\": \"diff2\", \"value\": 5.028334523678453}, {\"id\": 80, \"variable\": \"diff2\", \"value\": 9.933388164312191}, {\"id\": 81, \"variable\": \"diff2\", \"value\": -14.137860637304058}, {\"id\": 82, \"variable\": \"diff2\", \"value\": -16.848881321663296}, {\"id\": 83, \"variable\": \"diff2\", \"value\": 11.776445514300534}, {\"id\": 84, \"variable\": \"diff2\", \"value\": -11.395870863778171}, {\"id\": 85, \"variable\": \"diff2\", \"value\": -4.083167568075092}, {\"id\": 86, \"variable\": \"diff2\", \"value\": 4.597679511360184}, {\"id\": 87, \"variable\": \"diff2\", \"value\": 4.873741598484443}, {\"id\": 88, \"variable\": \"diff2\", \"value\": -3.5836363555880766}, {\"id\": 89, \"variable\": \"diff2\", \"value\": 11.342337037132815}, {\"id\": 90, \"variable\": \"diff2\", \"value\": -0.19724609931076031}, {\"id\": 91, \"variable\": \"diff2\", \"value\": -0.8258361349401717}, {\"id\": 92, \"variable\": \"diff2\", \"value\": -0.7872785783156218}, {\"id\": 93, \"variable\": \"diff2\", \"value\": 6.374161107521189}, {\"id\": 94, \"variable\": \"diff2\", \"value\": 9.985099354836407}, {\"id\": 95, \"variable\": \"diff2\", \"value\": -10.941667979117476}, {\"id\": 96, \"variable\": \"diff2\", \"value\": 1.7453479688100941}, {\"id\": 97, \"variable\": \"diff2\", \"value\": 2.209596345647151}, {\"id\": 98, \"variable\": \"diff2\", \"value\": 22.922148064244553}, {\"id\": 99, \"variable\": \"diff2\", \"value\": -0.13581789586048387}]}}, {\"mode\": \"vega-lite\"});\n",
       "</script>"
      ],
      "text/plain": [
       "alt.Chart(...)"
      ]
     },
     "execution_count": 45,
     "metadata": {},
     "output_type": "execute_result"
    }
   ],
   "source": [
    "# plot the values\n",
    "alt.Chart(longform).mark_line().encode(\n",
    "    x='id:O',\n",
    "    y='value:Q',\n",
    "    color='variable:N'\n",
    ")"
   ]
  },
  {
   "cell_type": "markdown",
   "metadata": {},
   "source": [
    "# Example Analysis: Plot the reasons each team won by"
   ]
  },
  {
   "cell_type": "code",
   "execution_count": 46,
   "metadata": {},
   "outputs": [],
   "source": [
    "# let's augment our winreasons data with the Productivity\n",
    "for i in np.arange(0,100):\n",
    "    reason = gamedata['winreasons'][i]\n",
    "    reason['prod'] = robotdata.at[i,'Productivity']   "
   ]
  },
  {
   "cell_type": "code",
   "execution_count": 47,
   "metadata": {},
   "outputs": [],
   "source": [
    "# make a dataframe\n",
    "reasonframe = pd.read_json(json.dumps(gamedata['winreasons']))"
   ]
  },
  {
   "cell_type": "code",
   "execution_count": 48,
   "metadata": {},
   "outputs": [
    {
     "data": {
      "text/html": [
       "<div>\n",
       "<style scoped>\n",
       "    .dataframe tbody tr th:only-of-type {\n",
       "        vertical-align: middle;\n",
       "    }\n",
       "\n",
       "    .dataframe tbody tr th {\n",
       "        vertical-align: top;\n",
       "    }\n",
       "\n",
       "    .dataframe thead th {\n",
       "        text-align: right;\n",
       "    }\n",
       "</style>\n",
       "<table border=\"1\" class=\"dataframe\">\n",
       "  <thead>\n",
       "    <tr style=\"text-align: right;\">\n",
       "      <th></th>\n",
       "      <th>winner</th>\n",
       "      <th>reason</th>\n",
       "      <th>prod</th>\n",
       "    </tr>\n",
       "  </thead>\n",
       "  <tbody>\n",
       "    <tr>\n",
       "      <th>27</th>\n",
       "      <td>1</td>\n",
       "      <td>2.0</td>\n",
       "      <td>65.721378</td>\n",
       "    </tr>\n",
       "    <tr>\n",
       "      <th>98</th>\n",
       "      <td>1</td>\n",
       "      <td>2.0</td>\n",
       "      <td>36.154221</td>\n",
       "    </tr>\n",
       "    <tr>\n",
       "      <th>81</th>\n",
       "      <td>2</td>\n",
       "      <td>2.0</td>\n",
       "      <td>73.233826</td>\n",
       "    </tr>\n",
       "    <tr>\n",
       "      <th>25</th>\n",
       "      <td>2</td>\n",
       "      <td>2.0</td>\n",
       "      <td>48.558440</td>\n",
       "    </tr>\n",
       "    <tr>\n",
       "      <th>5</th>\n",
       "      <td>2</td>\n",
       "      <td>1.0</td>\n",
       "      <td>40.604522</td>\n",
       "    </tr>\n",
       "  </tbody>\n",
       "</table>\n",
       "</div>"
      ],
      "text/plain": [
       "    winner  reason       prod\n",
       "27       1     2.0  65.721378\n",
       "98       1     2.0  36.154221\n",
       "81       2     2.0  73.233826\n",
       "25       2     2.0  48.558440\n",
       "5        2     1.0  40.604522"
      ]
     },
     "execution_count": 48,
     "metadata": {},
     "output_type": "execute_result"
    }
   ],
   "source": [
    "reasonframe.sample(5)"
   ]
  },
  {
   "cell_type": "code",
   "execution_count": 50,
   "metadata": {},
   "outputs": [
    {
     "data": {
      "text/html": [
       "\n",
       "<div id=\"altair-viz-07cd70b7373f4e4f8d73c1a861d35c4c\"></div>\n",
       "<script type=\"text/javascript\">\n",
       "  (function(spec, embedOpt){\n",
       "    let outputDiv = document.currentScript.previousElementSibling;\n",
       "    if (outputDiv.id !== \"altair-viz-07cd70b7373f4e4f8d73c1a861d35c4c\") {\n",
       "      outputDiv = document.getElementById(\"altair-viz-07cd70b7373f4e4f8d73c1a861d35c4c\");\n",
       "    }\n",
       "    const paths = {\n",
       "      \"vega\": \"https://cdn.jsdelivr.net/npm//vega@5?noext\",\n",
       "      \"vega-lib\": \"https://cdn.jsdelivr.net/npm//vega-lib?noext\",\n",
       "      \"vega-lite\": \"https://cdn.jsdelivr.net/npm//vega-lite@4.8.1?noext\",\n",
       "      \"vega-embed\": \"https://cdn.jsdelivr.net/npm//vega-embed@6?noext\",\n",
       "    };\n",
       "\n",
       "    function loadScript(lib) {\n",
       "      return new Promise(function(resolve, reject) {\n",
       "        var s = document.createElement('script');\n",
       "        s.src = paths[lib];\n",
       "        s.async = true;\n",
       "        s.onload = () => resolve(paths[lib]);\n",
       "        s.onerror = () => reject(`Error loading script: ${paths[lib]}`);\n",
       "        document.getElementsByTagName(\"head\")[0].appendChild(s);\n",
       "      });\n",
       "    }\n",
       "\n",
       "    function showError(err) {\n",
       "      outputDiv.innerHTML = `<div class=\"error\" style=\"color:red;\">${err}</div>`;\n",
       "      throw err;\n",
       "    }\n",
       "\n",
       "    function displayChart(vegaEmbed) {\n",
       "      vegaEmbed(outputDiv, spec, embedOpt)\n",
       "        .catch(err => showError(`Javascript Error: ${err.message}<br>This usually means there's a typo in your chart specification. See the javascript console for the full traceback.`));\n",
       "    }\n",
       "\n",
       "    if(typeof define === \"function\" && define.amd) {\n",
       "      requirejs.config({paths});\n",
       "      require([\"vega-embed\"], displayChart, err => showError(`Error loading script: ${err.message}`));\n",
       "    } else if (typeof vegaEmbed === \"function\") {\n",
       "      displayChart(vegaEmbed);\n",
       "    } else {\n",
       "      loadScript(\"vega\")\n",
       "        .then(() => loadScript(\"vega-lite\"))\n",
       "        .then(() => loadScript(\"vega-embed\"))\n",
       "        .catch(showError)\n",
       "        .then(() => displayChart(vegaEmbed));\n",
       "    }\n",
       "  })({\"config\": {\"view\": {\"continuousWidth\": 400, \"continuousHeight\": 300}}, \"data\": {\"name\": \"data-6836326dd27338088e091e0b80169bdc\"}, \"mark\": \"bar\", \"encoding\": {\"color\": {\"type\": \"nominal\", \"field\": \"reason\"}, \"x\": {\"type\": \"ordinal\", \"field\": \"winner\"}, \"y\": {\"type\": \"quantitative\", \"field\": \"sum_prod\"}}, \"transform\": [{\"aggregate\": [{\"op\": \"sum\", \"field\": \"prod\", \"as\": \"sum_prod\"}], \"groupby\": [\"winner\", \"reason\"]}], \"$schema\": \"https://vega.github.io/schema/vega-lite/v4.8.1.json\", \"datasets\": {\"data-6836326dd27338088e091e0b80169bdc\": [{\"winner\": 2, \"reason\": 2.0, \"prod\": -30.01105044855196}, {\"winner\": 2, \"reason\": 2.0, \"prod\": 35.3420835474015}, {\"winner\": 2, \"reason\": 2.0, \"prod\": 35.740068568585116}, {\"winner\": 2, \"reason\": 2.0, \"prod\": 87.14264205937323}, {\"winner\": 2, \"reason\": 1.0, \"prod\": 88.39715167383807}, {\"winner\": 2, \"reason\": 1.0, \"prod\": 40.60452178023536}, {\"winner\": 2, \"reason\": 1.0, \"prod\": 12.461010703904519}, {\"winner\": 2, \"reason\": 2.0, \"prod\": 47.245915159402635}, {\"winner\": 2, \"reason\": 1.0, \"prod\": 71.7072961304781}, {\"winner\": 2, \"reason\": 1.0, \"prod\": 100.0}, {\"winner\": 2, \"reason\": 2.0, \"prod\": 85.27017201799353}, {\"winner\": 2, \"reason\": 1.0, \"prod\": -64.97583200145168}, {\"winner\": 2, \"reason\": 1.5, \"prod\": 32.6399450742916}, {\"winner\": 2, \"reason\": 2.0, \"prod\": -55.56402080216944}, {\"winner\": 1, \"reason\": 2.0, \"prod\": -80.0}, {\"winner\": 1, \"reason\": 2.0, \"prod\": 25.45736704511262}, {\"winner\": 1, \"reason\": 1.5, \"prod\": 83.01392339697506}, {\"winner\": 2, \"reason\": 1.0, \"prod\": 53.06246388374149}, {\"winner\": 1, \"reason\": 1.0, \"prod\": 100.0}, {\"winner\": 2, \"reason\": 2.0, \"prod\": -73.59127984191184}, {\"winner\": 2, \"reason\": 2.0, \"prod\": 60.94068088011127}, {\"winner\": 2, \"reason\": 1.0, \"prod\": 83.66260431524006}, {\"winner\": 2, \"reason\": 2.0, \"prod\": 88.79951445554205}, {\"winner\": 2, \"reason\": 2.0, \"prod\": 81.8611643470508}, {\"winner\": 1, \"reason\": 2.0, \"prod\": 89.8769395242263}, {\"winner\": 2, \"reason\": 2.0, \"prod\": 48.558440174315606}, {\"winner\": 2, \"reason\": 2.0, \"prod\": 100.0}, {\"winner\": 1, \"reason\": 2.0, \"prod\": 65.72137793081131}, {\"winner\": 1, \"reason\": 1.0, \"prod\": 100.0}, {\"winner\": 1, \"reason\": 2.0, \"prod\": 38.686412857876896}, {\"winner\": 2, \"reason\": 1.5, \"prod\": 72.78182272845126}, {\"winner\": 2, \"reason\": 2.0, \"prod\": -67.16100945970302}, {\"winner\": 2, \"reason\": 2.0, \"prod\": -34.80354955030116}, {\"winner\": 2, \"reason\": 2.0, \"prod\": 65.59257799638829}, {\"winner\": 2, \"reason\": 2.0, \"prod\": 55.00087502710579}, {\"winner\": 2, \"reason\": 2.0, \"prod\": 27.20088576504281}, {\"winner\": 1, \"reason\": 1.0, \"prod\": 35.543022398451036}, {\"winner\": 1, \"reason\": 1.5, \"prod\": -25.352515153739127}, {\"winner\": 2, \"reason\": 2.0, \"prod\": -31.32489466216225}, {\"winner\": 2, \"reason\": 2.0, \"prod\": -25.018316397897355}, {\"winner\": 1, \"reason\": 2.0, \"prod\": 33.110814486612114}, {\"winner\": 1, \"reason\": 2.0, \"prod\": 30.715790983788594}, {\"winner\": 1, \"reason\": 2.0, \"prod\": 42.425897248366255}, {\"winner\": 2, \"reason\": 2.0, \"prod\": 47.82230554536558}, {\"winner\": 2, \"reason\": 1.0, \"prod\": 83.9079154502468}, {\"winner\": 2, \"reason\": 2.0, \"prod\": 100.0}, {\"winner\": 1, \"reason\": 1.0, \"prod\": 100.0}, {\"winner\": 2, \"reason\": 1.5, \"prod\": 35.92685515797912}, {\"winner\": 1, \"reason\": 1.0, \"prod\": 83.20980196162006}, {\"winner\": 2, \"reason\": 2.0, \"prod\": -13.37323670586288}, {\"winner\": 1, \"reason\": 2.0, \"prod\": 50.1102112574788}, {\"winner\": 1, \"reason\": 1.0, \"prod\": 95.47522184834808}, {\"winner\": 2, \"reason\": 2.0, \"prod\": 34.43056896977812}, {\"winner\": 1, \"reason\": 2.0, \"prod\": 38.572539393737}, {\"winner\": 2, \"reason\": 1.0, \"prod\": 43.61427967547705}, {\"winner\": 2, \"reason\": 1.0, \"prod\": 100.0}, {\"winner\": 2, \"reason\": 1.0, \"prod\": 100.0}, {\"winner\": 2, \"reason\": 2.0, \"prod\": 12.060033821821962}, {\"winner\": 2, \"reason\": 1.0, \"prod\": -10.154453757192343}, {\"winner\": 2, \"reason\": 1.0, \"prod\": 48.49473564297253}, {\"winner\": 2, \"reason\": 2.0, \"prod\": 35.693770102378714}, {\"winner\": 2, \"reason\": 2.0, \"prod\": -33.118573448415944}, {\"winner\": 2, \"reason\": 2.0, \"prod\": -44.40172317641033}, {\"winner\": 1, \"reason\": 1.5, \"prod\": -29.83308631148861}, {\"winner\": 1, \"reason\": 2.0, \"prod\": 70.95911073000525}, {\"winner\": 2, \"reason\": 2.0, \"prod\": -37.20681521487021}, {\"winner\": 2, \"reason\": 2.0, \"prod\": 100.0}, {\"winner\": 2, \"reason\": 2.0, \"prod\": 100.0}, {\"winner\": 2, \"reason\": 2.0, \"prod\": 91.3367395594176}, {\"winner\": 2, \"reason\": 2.0, \"prod\": 35.685323575663475}, {\"winner\": 1, \"reason\": 1.5, \"prod\": 13.7117539907439}, {\"winner\": 1, \"reason\": 2.0, \"prod\": 69.68206586744932}, {\"winner\": 2, \"reason\": 2.0, \"prod\": 97.6829744573794}, {\"winner\": 1, \"reason\": 1.5, \"prod\": 32.126599341198414}, {\"winner\": 2, \"reason\": 2.0, \"prod\": 52.15963262871651}, {\"winner\": 2, \"reason\": 2.0, \"prod\": -11.148026623774813}, {\"winner\": 2, \"reason\": 2.0, \"prod\": 61.40168829254146}, {\"winner\": 1, \"reason\": 1.5, \"prod\": 26.394634536658717}, {\"winner\": 1, \"reason\": 2.0, \"prod\": 54.479886684414204}, {\"winner\": 2, \"reason\": 2.0, \"prod\": -38.590950615915155}, {\"winner\": 2, \"reason\": 2.0, \"prod\": 80.74537539906342}, {\"winner\": 2, \"reason\": 2.0, \"prod\": 73.23382625131791}, {\"winner\": 1, \"reason\": 2.0, \"prod\": 60.45226595380865}, {\"winner\": 1, \"reason\": 2.0, \"prod\": 62.780274617829754}, {\"winner\": 2, \"reason\": 2.0, \"prod\": 64.40668633030414}, {\"winner\": 2, \"reason\": 1.0, \"prod\": 1.157918432689229}, {\"winner\": 2, \"reason\": 2.0, \"prod\": 40.33658742647843}, {\"winner\": 1, \"reason\": 1.0, \"prod\": 65.06378635195746}, {\"winner\": 2, \"reason\": 1.0, \"prod\": 91.73495891383185}, {\"winner\": 2, \"reason\": 2.0, \"prod\": 49.78415146690102}, {\"winner\": 2, \"reason\": 2.0, \"prod\": 57.90749546567832}, {\"winner\": 2, \"reason\": 2.0, \"prod\": 49.65209261596269}, {\"winner\": 1, \"reason\": 1.0, \"prod\": 82.06094999557901}, {\"winner\": 2, \"reason\": 1.0, \"prod\": -41.37620886226121}, {\"winner\": 2, \"reason\": 2.0, \"prod\": 56.01447697699661}, {\"winner\": 2, \"reason\": 2.0, \"prod\": 89.5367748876186}, {\"winner\": 2, \"reason\": 2.0, \"prod\": 100.0}, {\"winner\": 2, \"reason\": 1.0, \"prod\": 72.26078558702973}, {\"winner\": 1, \"reason\": 2.0, \"prod\": 36.1542209375671}, {\"winner\": 1, \"reason\": 1.5, \"prod\": 73.62078549586856}]}}, {\"mode\": \"vega-lite\"});\n",
       "</script>"
      ],
      "text/plain": [
       "alt.Chart(...)"
      ]
     },
     "execution_count": 50,
     "metadata": {},
     "output_type": "execute_result"
    }
   ],
   "source": [
    "# what was the total productivity for each robot the teams won (based on reason)\n",
    "alt.Chart(reasonframe).mark_bar().encode(\n",
    "    x = 'winner:O',\n",
    "    y = 'sum_prod:Q',\n",
    "    color = 'reason:N'\n",
    ").transform_aggregate(\n",
    "    sum_prod='sum(prod)',\n",
    "    groupby=[\"winner\",\"reason\"]\n",
    ")"
   ]
  },
  {
   "cell_type": "code",
   "execution_count": 52,
   "metadata": {},
   "outputs": [
    {
     "data": {
      "text/html": [
       "\n",
       "<div id=\"altair-viz-9b3f50d6514f4ad89184dcca39724f44\"></div>\n",
       "<script type=\"text/javascript\">\n",
       "  (function(spec, embedOpt){\n",
       "    let outputDiv = document.currentScript.previousElementSibling;\n",
       "    if (outputDiv.id !== \"altair-viz-9b3f50d6514f4ad89184dcca39724f44\") {\n",
       "      outputDiv = document.getElementById(\"altair-viz-9b3f50d6514f4ad89184dcca39724f44\");\n",
       "    }\n",
       "    const paths = {\n",
       "      \"vega\": \"https://cdn.jsdelivr.net/npm//vega@5?noext\",\n",
       "      \"vega-lib\": \"https://cdn.jsdelivr.net/npm//vega-lib?noext\",\n",
       "      \"vega-lite\": \"https://cdn.jsdelivr.net/npm//vega-lite@4.8.1?noext\",\n",
       "      \"vega-embed\": \"https://cdn.jsdelivr.net/npm//vega-embed@6?noext\",\n",
       "    };\n",
       "\n",
       "    function loadScript(lib) {\n",
       "      return new Promise(function(resolve, reject) {\n",
       "        var s = document.createElement('script');\n",
       "        s.src = paths[lib];\n",
       "        s.async = true;\n",
       "        s.onload = () => resolve(paths[lib]);\n",
       "        s.onerror = () => reject(`Error loading script: ${paths[lib]}`);\n",
       "        document.getElementsByTagName(\"head\")[0].appendChild(s);\n",
       "      });\n",
       "    }\n",
       "\n",
       "    function showError(err) {\n",
       "      outputDiv.innerHTML = `<div class=\"error\" style=\"color:red;\">${err}</div>`;\n",
       "      throw err;\n",
       "    }\n",
       "\n",
       "    function displayChart(vegaEmbed) {\n",
       "      vegaEmbed(outputDiv, spec, embedOpt)\n",
       "        .catch(err => showError(`Javascript Error: ${err.message}<br>This usually means there's a typo in your chart specification. See the javascript console for the full traceback.`));\n",
       "    }\n",
       "\n",
       "    if(typeof define === \"function\" && define.amd) {\n",
       "      requirejs.config({paths});\n",
       "      require([\"vega-embed\"], displayChart, err => showError(`Error loading script: ${err.message}`));\n",
       "    } else if (typeof vegaEmbed === \"function\") {\n",
       "      displayChart(vegaEmbed);\n",
       "    } else {\n",
       "      loadScript(\"vega\")\n",
       "        .then(() => loadScript(\"vega-lite\"))\n",
       "        .then(() => loadScript(\"vega-embed\"))\n",
       "        .catch(showError)\n",
       "        .then(() => displayChart(vegaEmbed));\n",
       "    }\n",
       "  })({\"config\": {\"view\": {\"continuousWidth\": 400, \"continuousHeight\": 300}}, \"data\": {\"name\": \"data-6836326dd27338088e091e0b80169bdc\"}, \"mark\": \"circle\", \"encoding\": {\"color\": {\"type\": \"nominal\", \"field\": \"reason\"}, \"x\": {\"type\": \"ordinal\", \"field\": \"winner\"}, \"y\": {\"type\": \"quantitative\", \"field\": \"prod\"}}, \"$schema\": \"https://vega.github.io/schema/vega-lite/v4.8.1.json\", \"datasets\": {\"data-6836326dd27338088e091e0b80169bdc\": [{\"winner\": 2, \"reason\": 2.0, \"prod\": -30.01105044855196}, {\"winner\": 2, \"reason\": 2.0, \"prod\": 35.3420835474015}, {\"winner\": 2, \"reason\": 2.0, \"prod\": 35.740068568585116}, {\"winner\": 2, \"reason\": 2.0, \"prod\": 87.14264205937323}, {\"winner\": 2, \"reason\": 1.0, \"prod\": 88.39715167383807}, {\"winner\": 2, \"reason\": 1.0, \"prod\": 40.60452178023536}, {\"winner\": 2, \"reason\": 1.0, \"prod\": 12.461010703904519}, {\"winner\": 2, \"reason\": 2.0, \"prod\": 47.245915159402635}, {\"winner\": 2, \"reason\": 1.0, \"prod\": 71.7072961304781}, {\"winner\": 2, \"reason\": 1.0, \"prod\": 100.0}, {\"winner\": 2, \"reason\": 2.0, \"prod\": 85.27017201799353}, {\"winner\": 2, \"reason\": 1.0, \"prod\": -64.97583200145168}, {\"winner\": 2, \"reason\": 1.5, \"prod\": 32.6399450742916}, {\"winner\": 2, \"reason\": 2.0, \"prod\": -55.56402080216944}, {\"winner\": 1, \"reason\": 2.0, \"prod\": -80.0}, {\"winner\": 1, \"reason\": 2.0, \"prod\": 25.45736704511262}, {\"winner\": 1, \"reason\": 1.5, \"prod\": 83.01392339697506}, {\"winner\": 2, \"reason\": 1.0, \"prod\": 53.06246388374149}, {\"winner\": 1, \"reason\": 1.0, \"prod\": 100.0}, {\"winner\": 2, \"reason\": 2.0, \"prod\": -73.59127984191184}, {\"winner\": 2, \"reason\": 2.0, \"prod\": 60.94068088011127}, {\"winner\": 2, \"reason\": 1.0, \"prod\": 83.66260431524006}, {\"winner\": 2, \"reason\": 2.0, \"prod\": 88.79951445554205}, {\"winner\": 2, \"reason\": 2.0, \"prod\": 81.8611643470508}, {\"winner\": 1, \"reason\": 2.0, \"prod\": 89.8769395242263}, {\"winner\": 2, \"reason\": 2.0, \"prod\": 48.558440174315606}, {\"winner\": 2, \"reason\": 2.0, \"prod\": 100.0}, {\"winner\": 1, \"reason\": 2.0, \"prod\": 65.72137793081131}, {\"winner\": 1, \"reason\": 1.0, \"prod\": 100.0}, {\"winner\": 1, \"reason\": 2.0, \"prod\": 38.686412857876896}, {\"winner\": 2, \"reason\": 1.5, \"prod\": 72.78182272845126}, {\"winner\": 2, \"reason\": 2.0, \"prod\": -67.16100945970302}, {\"winner\": 2, \"reason\": 2.0, \"prod\": -34.80354955030116}, {\"winner\": 2, \"reason\": 2.0, \"prod\": 65.59257799638829}, {\"winner\": 2, \"reason\": 2.0, \"prod\": 55.00087502710579}, {\"winner\": 2, \"reason\": 2.0, \"prod\": 27.20088576504281}, {\"winner\": 1, \"reason\": 1.0, \"prod\": 35.543022398451036}, {\"winner\": 1, \"reason\": 1.5, \"prod\": -25.352515153739127}, {\"winner\": 2, \"reason\": 2.0, \"prod\": -31.32489466216225}, {\"winner\": 2, \"reason\": 2.0, \"prod\": -25.018316397897355}, {\"winner\": 1, \"reason\": 2.0, \"prod\": 33.110814486612114}, {\"winner\": 1, \"reason\": 2.0, \"prod\": 30.715790983788594}, {\"winner\": 1, \"reason\": 2.0, \"prod\": 42.425897248366255}, {\"winner\": 2, \"reason\": 2.0, \"prod\": 47.82230554536558}, {\"winner\": 2, \"reason\": 1.0, \"prod\": 83.9079154502468}, {\"winner\": 2, \"reason\": 2.0, \"prod\": 100.0}, {\"winner\": 1, \"reason\": 1.0, \"prod\": 100.0}, {\"winner\": 2, \"reason\": 1.5, \"prod\": 35.92685515797912}, {\"winner\": 1, \"reason\": 1.0, \"prod\": 83.20980196162006}, {\"winner\": 2, \"reason\": 2.0, \"prod\": -13.37323670586288}, {\"winner\": 1, \"reason\": 2.0, \"prod\": 50.1102112574788}, {\"winner\": 1, \"reason\": 1.0, \"prod\": 95.47522184834808}, {\"winner\": 2, \"reason\": 2.0, \"prod\": 34.43056896977812}, {\"winner\": 1, \"reason\": 2.0, \"prod\": 38.572539393737}, {\"winner\": 2, \"reason\": 1.0, \"prod\": 43.61427967547705}, {\"winner\": 2, \"reason\": 1.0, \"prod\": 100.0}, {\"winner\": 2, \"reason\": 1.0, \"prod\": 100.0}, {\"winner\": 2, \"reason\": 2.0, \"prod\": 12.060033821821962}, {\"winner\": 2, \"reason\": 1.0, \"prod\": -10.154453757192343}, {\"winner\": 2, \"reason\": 1.0, \"prod\": 48.49473564297253}, {\"winner\": 2, \"reason\": 2.0, \"prod\": 35.693770102378714}, {\"winner\": 2, \"reason\": 2.0, \"prod\": -33.118573448415944}, {\"winner\": 2, \"reason\": 2.0, \"prod\": -44.40172317641033}, {\"winner\": 1, \"reason\": 1.5, \"prod\": -29.83308631148861}, {\"winner\": 1, \"reason\": 2.0, \"prod\": 70.95911073000525}, {\"winner\": 2, \"reason\": 2.0, \"prod\": -37.20681521487021}, {\"winner\": 2, \"reason\": 2.0, \"prod\": 100.0}, {\"winner\": 2, \"reason\": 2.0, \"prod\": 100.0}, {\"winner\": 2, \"reason\": 2.0, \"prod\": 91.3367395594176}, {\"winner\": 2, \"reason\": 2.0, \"prod\": 35.685323575663475}, {\"winner\": 1, \"reason\": 1.5, \"prod\": 13.7117539907439}, {\"winner\": 1, \"reason\": 2.0, \"prod\": 69.68206586744932}, {\"winner\": 2, \"reason\": 2.0, \"prod\": 97.6829744573794}, {\"winner\": 1, \"reason\": 1.5, \"prod\": 32.126599341198414}, {\"winner\": 2, \"reason\": 2.0, \"prod\": 52.15963262871651}, {\"winner\": 2, \"reason\": 2.0, \"prod\": -11.148026623774813}, {\"winner\": 2, \"reason\": 2.0, \"prod\": 61.40168829254146}, {\"winner\": 1, \"reason\": 1.5, \"prod\": 26.394634536658717}, {\"winner\": 1, \"reason\": 2.0, \"prod\": 54.479886684414204}, {\"winner\": 2, \"reason\": 2.0, \"prod\": -38.590950615915155}, {\"winner\": 2, \"reason\": 2.0, \"prod\": 80.74537539906342}, {\"winner\": 2, \"reason\": 2.0, \"prod\": 73.23382625131791}, {\"winner\": 1, \"reason\": 2.0, \"prod\": 60.45226595380865}, {\"winner\": 1, \"reason\": 2.0, \"prod\": 62.780274617829754}, {\"winner\": 2, \"reason\": 2.0, \"prod\": 64.40668633030414}, {\"winner\": 2, \"reason\": 1.0, \"prod\": 1.157918432689229}, {\"winner\": 2, \"reason\": 2.0, \"prod\": 40.33658742647843}, {\"winner\": 1, \"reason\": 1.0, \"prod\": 65.06378635195746}, {\"winner\": 2, \"reason\": 1.0, \"prod\": 91.73495891383185}, {\"winner\": 2, \"reason\": 2.0, \"prod\": 49.78415146690102}, {\"winner\": 2, \"reason\": 2.0, \"prod\": 57.90749546567832}, {\"winner\": 2, \"reason\": 2.0, \"prod\": 49.65209261596269}, {\"winner\": 1, \"reason\": 1.0, \"prod\": 82.06094999557901}, {\"winner\": 2, \"reason\": 1.0, \"prod\": -41.37620886226121}, {\"winner\": 2, \"reason\": 2.0, \"prod\": 56.01447697699661}, {\"winner\": 2, \"reason\": 2.0, \"prod\": 89.5367748876186}, {\"winner\": 2, \"reason\": 2.0, \"prod\": 100.0}, {\"winner\": 2, \"reason\": 1.0, \"prod\": 72.26078558702973}, {\"winner\": 1, \"reason\": 2.0, \"prod\": 36.1542209375671}, {\"winner\": 1, \"reason\": 1.5, \"prod\": 73.62078549586856}]}}, {\"mode\": \"vega-lite\"});\n",
       "</script>"
      ],
      "text/plain": [
       "alt.Chart(...)"
      ]
     },
     "execution_count": 52,
     "metadata": {},
     "output_type": "execute_result"
    }
   ],
   "source": [
    "# what was the distribution of productivities\n",
    "alt.Chart(reasonframe).mark_circle().encode(\n",
    "    x = 'winner:O',\n",
    "    y = 'prod:Q',\n",
    "    color = 'reason:N'\n",
    ")"
   ]
  },
  {
   "cell_type": "code",
   "execution_count": null,
   "metadata": {},
   "outputs": [],
   "source": []
  }
 ],
 "metadata": {
  "kernelspec": {
   "display_name": "Python 3",
   "language": "python",
   "name": "python3"
  },
  "language_info": {
   "codemirror_mode": {
    "name": "ipython",
    "version": 3
   },
   "file_extension": ".py",
   "mimetype": "text/x-python",
   "name": "python",
   "nbconvert_exporter": "python",
   "pygments_lexer": "ipython3",
   "version": "3.8.5"
  }
 },
 "nbformat": 4,
 "nbformat_minor": 4
}
